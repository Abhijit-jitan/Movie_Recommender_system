{
 "cells": [
  {
   "cell_type": "markdown",
   "metadata": {},
   "source": [
    "### Content based recommendation engine:\n",
    "\n",
    "This type of recommendation systems, takes in a movie that a user currently likes as input. Then it analyzes the contents (storyline, genre, cast, director etc.) of the movie to find out other movies which have similar content. Then it ranks similar movies according to their similarity scores and recommends the most relevant movies to the user.\n",
    "\n",
    "\n",
    "### Finding the similarity\n",
    "\n",
    "We know that our recommendation engine will be content based. So, we need to find similar movies to a given movie and then recommend those similar movies to the user.\n"
   ]
  },
  {
   "cell_type": "code",
   "execution_count": 25,
   "metadata": {},
   "outputs": [],
   "source": [
    "import pandas as pd\n",
    "import numpy as np\n",
    "from sklearn.feature_extraction.text import CountVectorizer\n",
    "from sklearn.metrics.pairwise import cosine_similarity\n",
    "\n",
    "df = pd.read_csv(\"movie_dataset.csv\")"
   ]
  },
  {
   "cell_type": "code",
   "execution_count": 26,
   "metadata": {},
   "outputs": [
    {
     "data": {
      "text/plain": [
       "Index(['index', 'budget', 'genres', 'homepage', 'id', 'keywords',\n",
       "       'original_language', 'original_title', 'overview', 'popularity',\n",
       "       'production_companies', 'production_countries', 'release_date',\n",
       "       'revenue', 'runtime', 'spoken_languages', 'status', 'tagline', 'title',\n",
       "       'vote_average', 'vote_count', 'cast', 'crew', 'director'],\n",
       "      dtype='object')"
      ]
     },
     "execution_count": 26,
     "metadata": {},
     "output_type": "execute_result"
    }
   ],
   "source": [
    "df.head(2)\n",
    "df.columns"
   ]
  },
  {
   "cell_type": "code",
   "execution_count": 27,
   "metadata": {},
   "outputs": [],
   "source": [
    "df.isna().sum()\n",
    "df=df.fillna(\"\")\n"
   ]
  },
  {
   "cell_type": "code",
   "execution_count": 28,
   "metadata": {},
   "outputs": [],
   "source": [
    "features = ['keywords','cast','genres','director']"
   ]
  },
  {
   "cell_type": "code",
   "execution_count": 29,
   "metadata": {},
   "outputs": [],
   "source": [
    "## Combining 'keywords' , 'cast' , 'genres' , 'director' columns \n",
    "def combine_features(df):\n",
    "    return df['keywords']+\" \"+df['cast']+\" \"+df['genres']+\" \"+df['director']\n",
    "\n",
    "\n",
    "## apply combined_features() method over each rows & storing combined string in \"combined_features\" column\n",
    "df[\"combined_features\"] = df.apply(combine_features,axis=1) "
   ]
  },
  {
   "cell_type": "code",
   "execution_count": 62,
   "metadata": {},
   "outputs": [
    {
     "data": {
      "text/plain": [
       "0                                       Avatar\n",
       "1     Pirates of the Caribbean: At World's End\n",
       "2                                      Spectre\n",
       "3                        The Dark Knight Rises\n",
       "4                                  John Carter\n",
       "                        ...                   \n",
       "95                                Interstellar\n",
       "96                                   Inception\n",
       "97                                      シン・ゴジラ\n",
       "98           The Hobbit: An Unexpected Journey\n",
       "99                    The Fast and the Furious\n",
       "Name: original_title, Length: 100, dtype: object"
      ]
     },
     "execution_count": 62,
     "metadata": {},
     "output_type": "execute_result"
    }
   ],
   "source": [
    "df[\"original_title\"].head(100)"
   ]
  },
  {
   "cell_type": "code",
   "execution_count": 32,
   "metadata": {},
   "outputs": [],
   "source": [
    "## Transforming Vectors out of words(Combined_features)\n",
    "c_vector=CountVectorizer() \n",
    "count_matrix=c_vector.fit_transform(df[\"combined_features\"])   # Transform \"combined_features\" to matrix"
   ]
  },
  {
   "cell_type": "code",
   "execution_count": 33,
   "metadata": {},
   "outputs": [],
   "source": [
    "## Calculating Similarities within combined_features\n",
    "cosine_sim=cosine_similarity(count_matrix)"
   ]
  },
  {
   "cell_type": "code",
   "execution_count": 36,
   "metadata": {},
   "outputs": [],
   "source": [
    "## Movie title from Movie Index & vice-versa\n",
    "\n",
    "def title_from_index(index):\n",
    "    return df[df.index == index][\"title\"].values[0]\n",
    "def index_from_title(title):\n",
    "    return df[df.title == title][\"index\"].values[0]"
   ]
  },
  {
   "cell_type": "code",
   "execution_count": 65,
   "metadata": {},
   "outputs": [],
   "source": [
    "## Input Users Input\n",
    "\n",
    "movie_name = \"xXx\"\n",
    "\n",
    "movie_index=index_from_title(movie_name)\n",
    "similar_movies=list(enumerate(cosine_sim[movie_index])) \n",
    "sorted_similar_movies=sorted(similar_movies,key=lambda x:x[1],reverse=True)[1:]\n"
   ]
  },
  {
   "cell_type": "code",
   "execution_count": 66,
   "metadata": {},
   "outputs": [
    {
     "name": "stdout",
     "output_type": "stream",
     "text": [
      "Recomended movies As xXx:\n",
      "\n",
      "The Fast and the Furious\n",
      "The Hunt for Red October\n",
      "2 Fast 2 Furious\n",
      "The Jackal\n",
      "Furious 7\n",
      "Daylight\n"
     ]
    }
   ],
   "source": [
    "## Shows the top 5 Recomended Movies\n",
    "\n",
    "i=0\n",
    "print(\"Recomended movies As \"+movie_name+\":\\n\")\n",
    "for item in sorted_similar_movies:\n",
    "    print(title_from_index(item[0]))\n",
    "    i=i+1\n",
    "    if i>5:\n",
    "        break"
   ]
  },
  {
   "cell_type": "code",
   "execution_count": null,
   "metadata": {},
   "outputs": [],
   "source": [
    "   \n",
    "    \n",
    "            "
   ]
  },
  {
   "cell_type": "code",
   "execution_count": 46,
   "metadata": {},
   "outputs": [
    {
     "name": "stdout",
     "output_type": "stream",
     "text": [
      "Recomended movies As Avatar:\n",
      "\n",
      "Aliens\n",
      "Alien³\n",
      "Moonraker\n",
      "Planet of the Apes\n",
      "Avatar\n",
      "Gravity\n"
     ]
    }
   ],
   "source": [
    "i=0\n",
    "print()\n",
    "for item in sorted_similar_movies:\n",
    "    print(title_from_index(item[0]))\n",
    "    i=i+1\n",
    "    if i>5:\n",
    "        break"
   ]
  },
  {
   "cell_type": "code",
   "execution_count": null,
   "metadata": {},
   "outputs": [],
   "source": []
  }
 ],
 "metadata": {
  "kernelspec": {
   "display_name": "Python 3",
   "language": "python",
   "name": "python3"
  },
  "language_info": {
   "codemirror_mode": {
    "name": "ipython",
    "version": 3
   },
   "file_extension": ".py",
   "mimetype": "text/x-python",
   "name": "python",
   "nbconvert_exporter": "python",
   "pygments_lexer": "ipython3",
   "version": "3.6.8"
  }
 },
 "nbformat": 4,
 "nbformat_minor": 2
}
